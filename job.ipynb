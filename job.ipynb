{
 "cells": [
  {
   "cell_type": "markdown",
   "metadata": {},
   "source": [
    "## Data exploration"
   ]
  },
  {
   "cell_type": "markdown",
   "metadata": {},
   "source": [
    "### Load the dataset"
   ]
  },
  {
   "cell_type": "code",
   "execution_count": 176,
   "metadata": {},
   "outputs": [],
   "source": [
    "import pandas as pd\n",
    "import seaborn as sns\n",
    "# I assume we have headers, if we dont will update acordingly\n",
    "df = pd.read_csv('taxi.train.csv.gz', compression='gzip', header=0)"
   ]
  },
  {
   "cell_type": "markdown",
   "metadata": {},
   "source": [
    "### Dataset info"
   ]
  },
  {
   "cell_type": "code",
   "execution_count": 177,
   "metadata": {},
   "outputs": [
    {
     "name": "stdout",
     "output_type": "stream",
     "text": [
      "this dataset got 2000000 lines and 11 columns, here is an example:\n"
     ]
    },
    {
     "data": {
      "text/html": [
       "<div>\n",
       "<style scoped>\n",
       "    .dataframe tbody tr th:only-of-type {\n",
       "        vertical-align: middle;\n",
       "    }\n",
       "\n",
       "    .dataframe tbody tr th {\n",
       "        vertical-align: top;\n",
       "    }\n",
       "\n",
       "    .dataframe thead th {\n",
       "        text-align: right;\n",
       "    }\n",
       "</style>\n",
       "<table border=\"1\" class=\"dataframe\">\n",
       "  <thead>\n",
       "    <tr style=\"text-align: right;\">\n",
       "      <th></th>\n",
       "      <th>VendorID</th>\n",
       "      <th>from_datetime</th>\n",
       "      <th>passenger_count</th>\n",
       "      <th>trip_distance</th>\n",
       "      <th>from_longitude</th>\n",
       "      <th>from_latitude</th>\n",
       "      <th>to_longitude</th>\n",
       "      <th>to_latitude</th>\n",
       "      <th>RatecodeFactor</th>\n",
       "      <th>PaymentFactor</th>\n",
       "      <th>y</th>\n",
       "    </tr>\n",
       "  </thead>\n",
       "  <tbody>\n",
       "    <tr>\n",
       "      <th>0</th>\n",
       "      <td>1</td>\n",
       "      <td>2015-11-09 19:42:46</td>\n",
       "      <td>2</td>\n",
       "      <td>1.40</td>\n",
       "      <td>-73.986916</td>\n",
       "      <td>40.739594</td>\n",
       "      <td>-74.002235</td>\n",
       "      <td>40.731457</td>\n",
       "      <td>Standard rate</td>\n",
       "      <td>Credit card</td>\n",
       "      <td>2.835056</td>\n",
       "    </tr>\n",
       "    <tr>\n",
       "      <th>1</th>\n",
       "      <td>2</td>\n",
       "      <td>2015-11-23 21:25:43</td>\n",
       "      <td>6</td>\n",
       "      <td>2.02</td>\n",
       "      <td>-73.961960</td>\n",
       "      <td>40.772030</td>\n",
       "      <td>-73.945267</td>\n",
       "      <td>40.793758</td>\n",
       "      <td>Standard rate</td>\n",
       "      <td>Cash</td>\n",
       "      <td>2.607455</td>\n",
       "    </tr>\n",
       "    <tr>\n",
       "      <th>2</th>\n",
       "      <td>1</td>\n",
       "      <td>2015-11-13 00:19:25</td>\n",
       "      <td>1</td>\n",
       "      <td>1.00</td>\n",
       "      <td>-73.981407</td>\n",
       "      <td>40.761639</td>\n",
       "      <td>-73.964500</td>\n",
       "      <td>40.756161</td>\n",
       "      <td>Standard rate</td>\n",
       "      <td>Credit card</td>\n",
       "      <td>2.602060</td>\n",
       "    </tr>\n",
       "    <tr>\n",
       "      <th>3</th>\n",
       "      <td>1</td>\n",
       "      <td>2015-11-27 05:54:55</td>\n",
       "      <td>1</td>\n",
       "      <td>1.20</td>\n",
       "      <td>-73.998367</td>\n",
       "      <td>40.745533</td>\n",
       "      <td>-73.984047</td>\n",
       "      <td>40.750904</td>\n",
       "      <td>Standard rate</td>\n",
       "      <td>Cash</td>\n",
       "      <td>2.235528</td>\n",
       "    </tr>\n",
       "    <tr>\n",
       "      <th>4</th>\n",
       "      <td>2</td>\n",
       "      <td>2015-11-29 01:46:56</td>\n",
       "      <td>1</td>\n",
       "      <td>0.86</td>\n",
       "      <td>-73.986610</td>\n",
       "      <td>40.750401</td>\n",
       "      <td>-73.974464</td>\n",
       "      <td>40.747761</td>\n",
       "      <td>Standard rate</td>\n",
       "      <td>Credit card</td>\n",
       "      <td>2.506505</td>\n",
       "    </tr>\n",
       "    <tr>\n",
       "      <th>...</th>\n",
       "      <td>...</td>\n",
       "      <td>...</td>\n",
       "      <td>...</td>\n",
       "      <td>...</td>\n",
       "      <td>...</td>\n",
       "      <td>...</td>\n",
       "      <td>...</td>\n",
       "      <td>...</td>\n",
       "      <td>...</td>\n",
       "      <td>...</td>\n",
       "      <td>...</td>\n",
       "    </tr>\n",
       "    <tr>\n",
       "      <th>1999995</th>\n",
       "      <td>1</td>\n",
       "      <td>2015-11-21 22:24:24</td>\n",
       "      <td>1</td>\n",
       "      <td>2.70</td>\n",
       "      <td>-73.961922</td>\n",
       "      <td>40.776180</td>\n",
       "      <td>-73.991203</td>\n",
       "      <td>40.750153</td>\n",
       "      <td>Standard rate</td>\n",
       "      <td>Cash</td>\n",
       "      <td>2.916454</td>\n",
       "    </tr>\n",
       "    <tr>\n",
       "      <th>1999996</th>\n",
       "      <td>1</td>\n",
       "      <td>2015-11-28 22:18:26</td>\n",
       "      <td>2</td>\n",
       "      <td>0.80</td>\n",
       "      <td>-73.985893</td>\n",
       "      <td>40.757641</td>\n",
       "      <td>-73.977844</td>\n",
       "      <td>40.749947</td>\n",
       "      <td>Standard rate</td>\n",
       "      <td>Cash</td>\n",
       "      <td>2.634477</td>\n",
       "    </tr>\n",
       "    <tr>\n",
       "      <th>1999997</th>\n",
       "      <td>2</td>\n",
       "      <td>2015-11-03 00:42:56</td>\n",
       "      <td>3</td>\n",
       "      <td>0.72</td>\n",
       "      <td>-73.973999</td>\n",
       "      <td>40.764248</td>\n",
       "      <td>-73.983147</td>\n",
       "      <td>40.763138</td>\n",
       "      <td>Standard rate</td>\n",
       "      <td>Credit card</td>\n",
       "      <td>2.472756</td>\n",
       "    </tr>\n",
       "    <tr>\n",
       "      <th>1999998</th>\n",
       "      <td>2</td>\n",
       "      <td>2015-11-14 01:14:05</td>\n",
       "      <td>2</td>\n",
       "      <td>5.28</td>\n",
       "      <td>-73.991005</td>\n",
       "      <td>40.727936</td>\n",
       "      <td>-73.949043</td>\n",
       "      <td>40.780163</td>\n",
       "      <td>Standard rate</td>\n",
       "      <td>Credit card</td>\n",
       "      <td>3.047664</td>\n",
       "    </tr>\n",
       "    <tr>\n",
       "      <th>1999999</th>\n",
       "      <td>1</td>\n",
       "      <td>2015-11-26 12:32:06</td>\n",
       "      <td>3</td>\n",
       "      <td>2.00</td>\n",
       "      <td>-73.981331</td>\n",
       "      <td>40.752548</td>\n",
       "      <td>-74.006706</td>\n",
       "      <td>40.741554</td>\n",
       "      <td>Standard rate</td>\n",
       "      <td>Cash</td>\n",
       "      <td>3.047664</td>\n",
       "    </tr>\n",
       "  </tbody>\n",
       "</table>\n",
       "<p>2000000 rows × 11 columns</p>\n",
       "</div>"
      ],
      "text/plain": [
       "         VendorID        from_datetime  passenger_count  trip_distance  \\\n",
       "0               1  2015-11-09 19:42:46                2           1.40   \n",
       "1               2  2015-11-23 21:25:43                6           2.02   \n",
       "2               1  2015-11-13 00:19:25                1           1.00   \n",
       "3               1  2015-11-27 05:54:55                1           1.20   \n",
       "4               2  2015-11-29 01:46:56                1           0.86   \n",
       "...           ...                  ...              ...            ...   \n",
       "1999995         1  2015-11-21 22:24:24                1           2.70   \n",
       "1999996         1  2015-11-28 22:18:26                2           0.80   \n",
       "1999997         2  2015-11-03 00:42:56                3           0.72   \n",
       "1999998         2  2015-11-14 01:14:05                2           5.28   \n",
       "1999999         1  2015-11-26 12:32:06                3           2.00   \n",
       "\n",
       "         from_longitude  from_latitude  to_longitude  to_latitude  \\\n",
       "0            -73.986916      40.739594    -74.002235    40.731457   \n",
       "1            -73.961960      40.772030    -73.945267    40.793758   \n",
       "2            -73.981407      40.761639    -73.964500    40.756161   \n",
       "3            -73.998367      40.745533    -73.984047    40.750904   \n",
       "4            -73.986610      40.750401    -73.974464    40.747761   \n",
       "...                 ...            ...           ...          ...   \n",
       "1999995      -73.961922      40.776180    -73.991203    40.750153   \n",
       "1999996      -73.985893      40.757641    -73.977844    40.749947   \n",
       "1999997      -73.973999      40.764248    -73.983147    40.763138   \n",
       "1999998      -73.991005      40.727936    -73.949043    40.780163   \n",
       "1999999      -73.981331      40.752548    -74.006706    40.741554   \n",
       "\n",
       "        RatecodeFactor PaymentFactor         y  \n",
       "0        Standard rate   Credit card  2.835056  \n",
       "1        Standard rate          Cash  2.607455  \n",
       "2        Standard rate   Credit card  2.602060  \n",
       "3        Standard rate          Cash  2.235528  \n",
       "4        Standard rate   Credit card  2.506505  \n",
       "...                ...           ...       ...  \n",
       "1999995  Standard rate          Cash  2.916454  \n",
       "1999996  Standard rate          Cash  2.634477  \n",
       "1999997  Standard rate   Credit card  2.472756  \n",
       "1999998  Standard rate   Credit card  3.047664  \n",
       "1999999  Standard rate          Cash  3.047664  \n",
       "\n",
       "[2000000 rows x 11 columns]"
      ]
     },
     "execution_count": 177,
     "metadata": {},
     "output_type": "execute_result"
    }
   ],
   "source": [
    "print(f\"this dataset got {df.shape[0]} lines and {df.shape[1]} columns, here is an example:\")\n",
    "df"
   ]
  },
  {
   "cell_type": "code",
   "execution_count": 178,
   "metadata": {},
   "outputs": [],
   "source": [
    "# remove rare values\n",
    "# values with std greated then 1 we will remove we can 'tweek' it later\n",
    "STD_OFFSET = 1\n",
    "mean=df['trip_distance'].mean()\n",
    "std=df['trip_distance'].std()\n",
    "df[\"greater\" ]= mean+(std*STD_OFFSET)\n",
    "df[\"lower\"] = mean-(std*STD_OFFSET)"
   ]
  },
  {
   "cell_type": "code",
   "execution_count": 179,
   "metadata": {},
   "outputs": [],
   "source": [
    "# remove all rare values\n",
    "fixed_df = df[(df['trip_distance'] > df['lower']) & (df['trip_distance'] < df['greater'])]"
   ]
  },
  {
   "cell_type": "code",
   "execution_count": 239,
   "metadata": {},
   "outputs": [
    {
     "name": "stdout",
     "output_type": "stream",
     "text": [
      "max value:8248.9\n"
     ]
    },
    {
     "data": {
      "image/png": "[encoded data removed]",
      "text/plain": [
       "<Figure size 432x288 with 1 Axes>"
      ]
     },
     "metadata": {
      "needs_background": "light"
     },
     "output_type": "display_data"
    }
   ],
   "source": [
    "# first find max value and min value\n",
    "max_val = fixed_df['trip_distance'].max()\n",
    "print(f\"max value:{max_val}\")\n",
    "# we will define the following bins \n",
    "hist = fixed_df.hist(column=['trip_distance'], bins=[k//10 for k in range(0,90000,10)])"
   ]
  },
  {
   "cell_type": "code",
   "execution_count": 181,
   "metadata": {},
   "outputs": [
    {
     "name": "stderr",
     "output_type": "stream",
     "text": [
      "<ipython-input-181-abd904dbed09>:2: SettingWithCopyWarning: \n",
      "A value is trying to be set on a copy of a slice from a DataFrame.\n",
      "Try using .loc[row_indexer,col_indexer] = value instead\n",
      "\n",
      "See the caveats in the documentation: https://pandas.pydata.org/pandas-docs/stable/user_guide/indexing.html#returning-a-view-versus-a-copy\n",
      "  fixed_df['hour'] = pd.to_datetime(fixed_df['from_datetime']).dt.hour\n"
     ]
    },
    {
     "data": {
      "text/plain": [
       "<AxesSubplot:xlabel='hour'>"
      ]
     },
     "execution_count": 181,
     "metadata": {},
     "output_type": "execute_result"
    },
    {
     "data": {
      "image/png": "[encoded data removed]",
      "text/plain": [
       "<Figure size 432x288 with 1 Axes>"
      ]
     },
     "metadata": {
      "needs_background": "light"
     },
     "output_type": "display_data"
    }
   ],
   "source": [
    "# now calculate the effect of hours on the distance\n",
    "fixed_df['hour'] = pd.to_datetime(fixed_df['from_datetime']).dt.hour\n",
    "trip_distance_grouped_by_hours = fixed_df.groupby(['hour']).mean()[['trip_distance']]\n",
    "trip_distance_grouped_by_hours['hour'] = trip_distance_grouped_by_hours.index\n",
    "trip_distance_grouped_by_hours.plot(x='hour',y='trip_distance')"
   ]
  },
  {
   "cell_type": "code",
   "execution_count": 182,
   "metadata": {},
   "outputs": [
    {
     "data": {
      "text/plain": [
       "<AxesSubplot:xlabel='hour'>"
      ]
     },
     "execution_count": 182,
     "metadata": {},
     "output_type": "execute_result"
    },
    {
     "data": {
      "image/png": "[encoded data removed]",
      "text/plain": [
       "<Figure size 432x288 with 1 Axes>"
      ]
     },
     "metadata": {
      "needs_background": "light"
     },
     "output_type": "display_data"
    }
   ],
   "source": [
    "y_grouped_by_hours = fixed_df.groupby(['hour']).mean()[['y']]\n",
    "y_grouped_by_hours['hour'] = y_grouped_by_hours.index\n",
    "y_grouped_by_hours.plot(x='hour',y='y')"
   ]
  },
  {
   "cell_type": "code",
   "execution_count": 183,
   "metadata": {},
   "outputs": [
    {
     "data": {
      "text/plain": [
       "<AxesSubplot:xlabel='RatecodeFactor'>"
      ]
     },
     "execution_count": 183,
     "metadata": {},
     "output_type": "execute_result"
    },
    {
     "data": {
      "image/png": "[encoded data removed]",
      "text/plain": [
       "<Figure size 432x288 with 1 Axes>"
      ]
     },
     "metadata": {
      "needs_background": "light"
     },
     "output_type": "display_data"
    }
   ],
   "source": [
    "# distance agains VendorId\n",
    "y_grouped_by_hours = fixed_df.groupby(['RatecodeFactor']).mean()[['trip_distance']]\n",
    "y_grouped_by_hours['RatecodeFactor'] = y_grouped_by_hours.index\n",
    "y_grouped_by_hours.plot(x='RatecodeFactor',y='trip_distance', kind='bar')"
   ]
  },
  {
   "cell_type": "markdown",
   "metadata": {},
   "source": [
    "There is a major differance in the trip distance as function of the RatecodeFactor"
   ]
  },
  {
   "cell_type": "code",
   "execution_count": 184,
   "metadata": {},
   "outputs": [
    {
     "data": {
      "text/plain": [
       "<AxesSubplot:xlabel='PaymentFactor'>"
      ]
     },
     "execution_count": 184,
     "metadata": {},
     "output_type": "execute_result"
    },
    {
     "data": {
      "image/png": "[encoded data removed]",
      "text/plain": [
       "<Figure size 432x288 with 1 Axes>"
      ]
     },
     "metadata": {
      "needs_background": "light"
     },
     "output_type": "display_data"
    }
   ],
   "source": [
    "# distance agains VendorId\n",
    "y_grouped_by_hours = fixed_df.groupby(['PaymentFactor']).mean()[['trip_distance']]\n",
    "y_grouped_by_hours['PaymentFactor'] = y_grouped_by_hours.index\n",
    "y_grouped_by_hours.plot(x='PaymentFactor',y='trip_distance', kind='bar')"
   ]
  },
  {
   "cell_type": "code",
   "execution_count": 185,
   "metadata": {},
   "outputs": [
    {
     "data": {
      "text/plain": [
       "<AxesSubplot:xlabel='PaymentFactor'>"
      ]
     },
     "execution_count": 185,
     "metadata": {},
     "output_type": "execute_result"
    },
    {
     "data": {
      "image/png": "[encoded data removed]",
      "text/plain": [
       "<Figure size 432x288 with 1 Axes>"
      ]
     },
     "metadata": {
      "needs_background": "light"
     },
     "output_type": "display_data"
    }
   ],
   "source": [
    "# looks like there is a minor differance, we can see it by grouping by the vendor ID and see the mean distance per group. \n",
    "# Now to varify our assumption lets see what heppens to the std\n",
    "y_grouped_by_hours = fixed_df.groupby(['PaymentFactor']).std()[['trip_distance']]\n",
    "y_grouped_by_hours['PaymentFactor'] = y_grouped_by_hours.index\n",
    "y_grouped_by_hours.plot(x='PaymentFactor',y='trip_distance', kind='bar')"
   ]
  },
  {
   "cell_type": "code",
   "execution_count": 186,
   "metadata": {},
   "outputs": [
    {
     "data": {
      "text/plain": [
       "<AxesSubplot:xlabel='PaymentFactor'>"
      ]
     },
     "execution_count": 186,
     "metadata": {},
     "output_type": "execute_result"
    },
    {
     "data": {
      "image/png": "[encoded data removed]",
      "text/plain": [
       "<Figure size 432x288 with 1 Axes>"
      ]
     },
     "metadata": {
      "needs_background": "light"
     },
     "output_type": "display_data"
    }
   ],
   "source": [
    "# looks like the std is higher for cash let calculate the quantiles\n",
    "y_grouped_by_hours = fixed_df.groupby(['PaymentFactor']).quantile([0.1, 0.5, 0.8,  0.9, 0.99])[['trip_distance']]\n",
    "y_grouped_by_hours['PaymentFactor'] = y_grouped_by_hours.index\n",
    "y_grouped_by_hours.plot(x='PaymentFactor',y='trip_distance', kind='bar')"
   ]
  },
  {
   "cell_type": "markdown",
   "metadata": {},
   "source": [
    "Although there is a differance in the std looks like onverall the PaymentFactor doesnt effect the trip distance significaly "
   ]
  },
  {
   "cell_type": "code",
   "execution_count": 188,
   "metadata": {},
   "outputs": [
    {
     "name": "stderr",
     "output_type": "stream",
     "text": [
      "<ipython-input-188-ee7b562452c1>:1: SettingWithCopyWarning: \n",
      "A value is trying to be set on a copy of a slice from a DataFrame.\n",
      "Try using .loc[row_indexer,col_indexer] = value instead\n",
      "\n",
      "See the caveats in the documentation: https://pandas.pydata.org/pandas-docs/stable/user_guide/indexing.html#returning-a-view-versus-a-copy\n",
      "  fixed_df['y_mins'] = fixed_df['y']*60\n"
     ]
    }
   ],
   "source": [
    "fixed_df['y_mins'] = fixed_df['y']*60"
   ]
  },
  {
   "cell_type": "code",
   "execution_count": 194,
   "metadata": {},
   "outputs": [
    {
     "name": "stdout",
     "output_type": "stream",
     "text": [
      "std:21.799320752588706 p50:0.5    170.141434\n",
      "Name: y_mins, dtype: float64\n"
     ]
    }
   ],
   "source": [
    "std = fixed_df['y_mins'].std()\n",
    "p50 = fixed_df['y_mins'].quantile([0.5])\n",
    "print(f\"std:{std} p50:{p50}\")"
   ]
  },
  {
   "cell_type": "code",
   "execution_count": 219,
   "metadata": {},
   "outputs": [
    {
     "data": {
      "image/png": "[encoded data removed]",
      "text/plain": [
       "<Figure size 432x288 with 1 Axes>"
      ]
     },
     "metadata": {
      "needs_background": "light"
     },
     "output_type": "display_data"
    }
   ],
   "source": [
    "import pandas as pd\n",
    "import numpy as np\n",
    "import sklearn.ensemble\n",
    "import matplotlib.pyplot as plt\n",
    "import os\n",
    "import itertools\n",
    "\n",
    "the_dir = '.'\n",
    "train_df = pd.read_csv('taxi.train.csv.gz', compression='gzip')\n",
    "valid_df = pd.read_csv('taxi.valid.csv.gz', compression='gzip')\n",
    "test_df  = pd.read_csv('taxi.test.no.label.csv.gz', compression='gzip')\n",
    "\n",
    "columns = ['passenger_count', 'trip_distance']\n",
    "def create_sklearn_compatible_x_y(df):\n",
    "    X = df[columns]\n",
    "    y = df.y.values\n",
    "    return X, y\n",
    "\n",
    "X_train, y_train = create_sklearn_compatible_x_y(train_df)\n",
    "X_valid, y_valid = create_sklearn_compatible_x_y(valid_df)\n",
    "X_test = test_df[columns]\n",
    "\n",
    "train_df.iloc[0]\n",
    "\n",
    "####### Train gradient boosting\n",
    "max_estimators = 100\n",
    "model = sklearn.ensemble.GradientBoostingRegressor(n_estimators=max_estimators,\n",
    "                                                   learning_rate=0.1,\n",
    "                                                   subsample=.5,\n",
    "                                                   max_depth=2)\n",
    "model.fit(X_train, y_train)\n",
    "\n",
    "# returns an array, where the n'th cell contains the prediction with n+1 boosted trees.\n",
    "train_staged_y_hat = model.staged_predict(X_train)\n",
    "valid_staged_y_hat = model.staged_predict(X_valid)\n",
    "y_hat_iter = list(zip(train_staged_y_hat, valid_staged_y_hat))\n",
    "\n",
    "sampled_trees = np.linspace(max_estimators//10, max_estimators, max_estimators//10)\n",
    "res = {}\n",
    "for n, (train_y_hat, valid_y_hat) in enumerate(y_hat_iter):\n",
    "    if n+1 not in sampled_trees:\n",
    "        continue\n",
    "    # loss l2 distance\n",
    "    get_l2 = lambda y, y_hat: np.sum((y - y_hat)**2) // np.sum((y - np.mean(y))**2)\n",
    "    train_l2 = get_l2(y_train, train_y_hat)\n",
    "    valid_l2 = get_l2(y_valid, valid_y_hat)\n",
    "    res[n+1] = train_l2, valid_l2\n",
    "\n",
    "pd.DataFrame(res).T.plot()\n",
    "\n",
    "plt.barh([1,2], model.feature_importances_, align='center', alpha=0.4)\n",
    "plt.yticks([1,2], columns)\n",
    "plt.xlabel('feature_importances')\n",
    "\n",
    "\n",
    "\n",
    "y_hat_test = model.predict(X_test)\n",
    "y_hat_df = pd.DataFrame({'y_hat':y_hat_test })"
   ]
  },
  {
   "cell_type": "code",
   "execution_count": 231,
   "metadata": {},
   "outputs": [
    {
     "data": {
      "image/png": "[encoded data removed]",
      "text/plain": [
       "<Figure size 432x288 with 1 Axes>"
      ]
     },
     "metadata": {
      "needs_background": "light"
     },
     "output_type": "display_data"
    }
   ],
   "source": [
    "plt.bar(range(len(model.feature_importances_)), model.feature_importances_)\n",
    "plt.show()"
   ]
  }
 ],
 "metadata": {
  "kernelspec": {
   "display_name": "Python 3",
   "language": "python",
   "name": "python3"
  },
  "language_info": {
   "codemirror_mode": {
    "name": "ipython",
    "version": 3
   },
   "file_extension": ".py",
   "mimetype": "text/x-python",
   "name": "python",
   "nbconvert_exporter": "python",
   "pygments_lexer": "ipython3",
   "version": "3.8.5"
  }
 },
 "nbformat": 4,
 "nbformat_minor": 4
}
